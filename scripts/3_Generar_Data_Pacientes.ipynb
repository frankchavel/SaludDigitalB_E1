{
 "cells": [
  {
   "cell_type": "markdown",
   "id": "4bbb79a5",
   "metadata": {},
   "source": [
    "#🐍 Script: Generar_Data_Pacientes.csv"
   ]
  },
  {
   "cell_type": "code",
   "execution_count": 2,
   "id": "4e283f90",
   "metadata": {},
   "outputs": [
    {
     "name": "stdout",
     "output_type": "stream",
     "text": [
      "✅ Archivo 'pacientes.csv' generado correctamente en: c:\\Users\\fchav\\documents\\SaludDigitalB_E1\\scripts\\..\\data\\pacientes.csv\n",
      "📊 Total de registros: 3000\n"
     ]
    }
   ],
   "source": [
    "from pathlib import Path\n",
    "import csv\n",
    "import random\n",
    "from datetime import datetime, timedelta\n",
    "\n",
    "# 1️⃣ Crear carpeta \"data\" si no existe\n",
    "data_path = Path.cwd() / \"../data\"\n",
    "data_path.mkdir(parents=True, exist_ok=True)\n",
    "\n",
    "# 2️⃣ Definir archivo CSV\n",
    "csv_file = data_path / \"pacientes.csv\"\n",
    "\n",
    "# 3️⃣ Listas base para generar datos\n",
    "nombres = [\"Ana\", \"Luis\", \"María\", \"Carlos\", \"Sofía\", \"José\", \"Lucía\", \"Miguel\", \"Carmen\", \"Andrés\"]\n",
    "apellidos = [\"Torres\", \"Pérez\", \"Gómez\", \"Rojas\", \"Fernández\", \"Díaz\", \"Ramírez\", \"Castro\", \"Salazar\", \"Cabrera\"]\n",
    "sexos = [\"M\", \"F\"]\n",
    "distritos = [\"Miraflores\", \"Surco\", \"San Isidro\", \"La Molina\", \"Cajamarca\", \"Callao\", \"Lince\", \"Jesús María\"]\n",
    "servicios = [\"Odontología\", \"Pediatría\", \"Cardiología\", \"Traumatología\", \"Dermatología\", \"Ginecología\", \"Oftalmología\"]\n",
    "\n",
    "# 4️⃣ Generar fecha aleatoria entre 2020 y 2025\n",
    "def generar_fecha():\n",
    "    inicio = datetime(2020, 1, 1)\n",
    "    fin = datetime(2025, 12, 31)\n",
    "    delta = fin - inicio\n",
    "    fecha_random = inicio + timedelta(days=random.randint(0, delta.days))\n",
    "    return fecha_random.strftime(\"%Y-%m-%d\")\n",
    "\n",
    "# 5️⃣ Generar 3000 registros\n",
    "registros = []\n",
    "for i in range(1, 3001):\n",
    "    id_paciente = f\"P{i:04d}\"\n",
    "    nombre = f\"{random.choice(nombres)} {random.choice(apellidos)}\"\n",
    "    edad = random.randint(1, 90)\n",
    "    sexo = random.choice(sexos)\n",
    "    distrito = random.choice(distritos)\n",
    "    servicio = random.choice(servicios)\n",
    "    fecha_atencion = generar_fecha()\n",
    "    monto = random.randint(50, 500)\n",
    "    registros.append([id_paciente, nombre, edad, sexo, distrito, servicio, fecha_atencion, monto])\n",
    "\n",
    "# 6️⃣ Escribir en el archivo CSV\n",
    "with open(csv_file, mode=\"w\", newline=\"\", encoding=\"utf-8\") as file:\n",
    "    writer = csv.writer(file)\n",
    "    writer.writerow([\"id_paciente\", \"nombre\", \"edad\", \"sexo\", \"distrito\", \"servicio\", \"fecha_atencion\", \"monto\"])\n",
    "    writer.writerows(registros)\n",
    "\n",
    "print(f\"✅ Archivo 'pacientes.csv' generado correctamente en: {csv_file}\")\n",
    "print(f\"📊 Total de registros: {len(registros)}\")\n"
   ]
  }
 ],
 "metadata": {
  "kernelspec": {
   "display_name": "myenv",
   "language": "python",
   "name": "python3"
  },
  "language_info": {
   "codemirror_mode": {
    "name": "ipython",
    "version": 3
   },
   "file_extension": ".py",
   "mimetype": "text/x-python",
   "name": "python",
   "nbconvert_exporter": "python",
   "pygments_lexer": "ipython3",
   "version": "3.13.7"
  }
 },
 "nbformat": 4,
 "nbformat_minor": 5
}
