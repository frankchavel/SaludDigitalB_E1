{
 "cells": [
  {
   "cell_type": "markdown",
   "id": "e90bc47a",
   "metadata": {},
   "source": [
    "# 🧩 Fase 4 – ETL (Limpieza de Datos)"
   ]
  },
  {
   "cell_type": "code",
   "execution_count": 2,
   "id": "030aaac4",
   "metadata": {},
   "outputs": [
    {
     "name": "stdout",
     "output_type": "stream",
     "text": [
      "✅ Archivo cargado correctamente desde: c:\\Users\\fchav\\documents\\SaludDigitalB_E1\\scripts\\..\\data\\pacientes.csv\n",
      "📊 Registros originales: 3000\n",
      "🧹 Duplicados eliminados. Registros actuales: 3000\n",
      "✅ Limpieza completada correctamente.\n",
      "💾 Archivo limpio guardado en: c:\\Users\\fchav\\documents\\SaludDigitalB_E1\\scripts\\..\\database\\pacientes_clean.csv\n",
      "📂 Total de registros finales: 3000\n",
      "\n",
      "📈 Vista previa de los primeros registros limpios:\n",
      "  id_paciente          nombre  edad sexo      distrito      servicio  \\\n",
      "0       P0001  Carlos Ramírez    54    F        Callao   Cardiología   \n",
      "1       P0002     Lucía Pérez    90    F  Sin distrito   Ginecología   \n",
      "2       P0003     Carlos Díaz    59    M    San Isidro  Dermatología   \n",
      "3       P0004  Andrés Cabrera    60    M         Lince  Dermatología   \n",
      "4       P0005      Luis Rojas    51    M  Sin distrito     Pediatría   \n",
      "\n",
      "  fecha_atencion       monto  \n",
      "0     2021-09-04  366.000000  \n",
      "1     2022-04-05  251.000000  \n",
      "2     2024-12-21  387.000000  \n",
      "3     2020-06-05  160.000000  \n",
      "4     2025-06-06  278.289021  \n"
     ]
    }
   ],
   "source": [
    "import pandas as pd\n",
    "from pathlib import Path\n",
    "\n",
    "# 1️⃣ Definir rutas\n",
    "data_path = Path.cwd() / \"../data\"         # Carpeta donde está pacientes.csv\n",
    "database_path = Path.cwd() / \"../database\" # Carpeta donde se guardará pacientes_clean.csv\n",
    "database_path.mkdir(parents=True, exist_ok=True)  # Crea la carpeta si no existe\n",
    "\n",
    "archivo_entrada = data_path / \"pacientes.csv\"\n",
    "archivo_salida = database_path / \"pacientes_clean.csv\"\n",
    "\n",
    "# 2️⃣ Cargar datos\n",
    "df = pd.read_csv(archivo_entrada, encoding=\"utf-8\")\n",
    "\n",
    "print(\"✅ Archivo cargado correctamente desde:\", archivo_entrada)\n",
    "print(\"📊 Registros originales:\", len(df))\n",
    "\n",
    "# 3️⃣ --- ETL: Limpieza de Datos ---\n",
    "\n",
    "# 🔹 a) Eliminar duplicados\n",
    "df = df.drop_duplicates()\n",
    "print(\"🧹 Duplicados eliminados. Registros actuales:\", len(df))\n",
    "\n",
    "# 🔹 b) Rellenar valores nulos en los campos con posibles vacíos\n",
    "if \"distrito\" in df.columns:\n",
    "    df[\"distrito\"] = df[\"distrito\"].fillna(\"Sin distrito\")\n",
    "if \"servicio\" in df.columns:\n",
    "    df[\"servicio\"] = df[\"servicio\"].fillna(\"Sin servicio\")\n",
    "if \"monto\" in df.columns:\n",
    "    df[\"monto\"] = df[\"monto\"].fillna(df[\"monto\"].mean())\n",
    "\n",
    "# 🔹 c) Formatear fechas (asegurar formato YYYY-MM-DD)\n",
    "if \"fecha_atencion\" in df.columns:\n",
    "    df[\"fecha_atencion\"] = pd.to_datetime(df[\"fecha_atencion\"], errors=\"coerce\").dt.strftime(\"%Y-%m-%d\")\n",
    "\n",
    "# 🔹 d) Validar tipos de datos\n",
    "df[\"edad\"] = pd.to_numeric(df[\"edad\"], errors=\"coerce\").fillna(df[\"edad\"].median())\n",
    "df[\"monto\"] = pd.to_numeric(df[\"monto\"], errors=\"coerce\").fillna(df[\"monto\"].mean())\n",
    "\n",
    "# 4️⃣ Guardar archivo limpio en la carpeta \"database\"\n",
    "df.to_csv(archivo_salida, index=False, encoding=\"utf-8\")\n",
    "\n",
    "print(\"✅ Limpieza completada correctamente.\")\n",
    "print(\"💾 Archivo limpio guardado en:\", archivo_salida)\n",
    "print(\"📂 Total de registros finales:\", len(df))\n",
    "print(\"\\n📈 Vista previa de los primeros registros limpios:\")\n",
    "print(df.head())\n"
   ]
  }
 ],
 "metadata": {
  "kernelspec": {
   "display_name": "myenv",
   "language": "python",
   "name": "python3"
  },
  "language_info": {
   "codemirror_mode": {
    "name": "ipython",
    "version": 3
   },
   "file_extension": ".py",
   "mimetype": "text/x-python",
   "name": "python",
   "nbconvert_exporter": "python",
   "pygments_lexer": "ipython3",
   "version": "3.13.7"
  }
 },
 "nbformat": 4,
 "nbformat_minor": 5
}
