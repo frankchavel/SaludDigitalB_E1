{
 "cells": [
  {
   "cell_type": "markdown",
   "id": "3320451d",
   "metadata": {},
   "source": [
    "# Crear Carpetas\n",
    "Se crearan las carpetas\n",
    "\n",
    "- data\n",
    "- database\n",
    "- docs\n",
    "- scripts\n",
    "🧰 1. Librerías necesarias\n",
    "Para crear carpetas o directorios directamente desde Python, no necesitas instalar nada adicional. Usarás librerías nativas del sistema operativo:\n",
    "\n",
    "os → para manejar rutas, crear carpetas, listar archivos, etc.\n",
    "pathlib → más moderna, limpia y recomendada para proyectos nuevos (parte de la librería estándar también).\n",
    "🧩 2. Crear carpeta “data” automáticamente\n",
    "## 1. Usando os\n",
    "Se usa la libreria os e importa al proyecto\n",
    "\n",
    "os.getcwd() obtiene la ruta actual del proyecto.\n",
    "os.makedirs() crea la carpeta y sus subcarpetas si no existen.\n",
    "Se verifica con os.path.exists() para no causar errores si la carpeta ya existe."
   ]
  },
  {
   "cell_type": "code",
   "execution_count": 1,
   "id": "63a275c7",
   "metadata": {},
   "outputs": [
    {
     "name": "stdout",
     "output_type": "stream",
     "text": [
      "Carpeta creada en: c:\\Users\\fchav\\documents\\SaludDigitalB_E1\\scripts\\../data\n"
     ]
    }
   ],
   "source": [
    "import os\n",
    "\n",
    "# Ruta de la carpeta \"data\" dentro del proyecto actual\n",
    "ruta_carpeta = os.path.join(os.getcwd(), \"../data\")\n",
    "\n",
    "# Crear carpeta si no existe\n",
    "if not os.path.exists(ruta_carpeta):\n",
    "    os.makedirs(ruta_carpeta)\n",
    "    print(f\"Carpeta creada en: {ruta_carpeta}\")\n",
    "else:\n",
    "    print(\"La carpeta 'data' ya existe.\")"
   ]
  },
  {
   "cell_type": "markdown",
   "id": "29db8326",
   "metadata": {},
   "source": [
    "## 2. Usando pathlib (más moderno y elegante)"
   ]
  },
  {
   "cell_type": "code",
   "execution_count": 2,
   "id": "c4062b03",
   "metadata": {},
   "outputs": [
    {
     "name": "stdout",
     "output_type": "stream",
     "text": [
      "Carpeta creada en: c:\\Users\\fchav\\documents\\SaludDigitalB_E1\\scripts\\..\\database\n"
     ]
    }
   ],
   "source": [
    "from pathlib import Path\n",
    "\n",
    "# Definir la ruta de la carpeta \"data\"\n",
    "ruta_carpeta = Path.cwd() / \"../database\"\n",
    "\n",
    "# Crear la carpeta si no existe\n",
    "ruta_carpeta.mkdir(parents=True, exist_ok=True)\n",
    "\n",
    "print(f\"Carpeta creada en: {ruta_carpeta}\")"
   ]
  },
  {
   "cell_type": "markdown",
   "id": "38aa4820",
   "metadata": {},
   "source": [
    "## 💡 3. Crear otras carpetas en la misma ejecución\n",
    "Se puede crear toda la estructura del proyecto en segundos:"
   ]
  },
  {
   "cell_type": "code",
   "execution_count": 3,
   "id": "c255f98d",
   "metadata": {},
   "outputs": [
    {
     "name": "stdout",
     "output_type": "stream",
     "text": [
      "✅ Carpeta 'reports' lista en c:\\Users\\fchav\\documents\\SaludDigitalB_E1\\scripts\\..\\reports\n",
      "✅ Carpeta 'ci' lista en c:\\Users\\fchav\\documents\\SaludDigitalB_E1\\scripts\\..\\ci\n",
      "✅ Carpeta 'git' lista en c:\\Users\\fchav\\documents\\SaludDigitalB_E1\\scripts\\..\\git\n"
     ]
    }
   ],
   "source": [
    "from pathlib import Path\n",
    "\n",
    "# Rutas de carpetas del proyecto\n",
    "carpetas = [\"reports\", \"ci\", \"git\"]\n",
    "\n",
    "for carpeta in carpetas:\n",
    "    ruta = Path.cwd() / f\"../{carpeta}\"\n",
    "    ruta.mkdir(parents=True, exist_ok=True)\n",
    "    print(f\"✅ Carpeta '{carpeta}' lista en {ruta}\")\n",
    "    "
   ]
  }
 ],
 "metadata": {
  "kernelspec": {
   "display_name": "myenv",
   "language": "python",
   "name": "python3"
  },
  "language_info": {
   "codemirror_mode": {
    "name": "ipython",
    "version": 3
   },
   "file_extension": ".py",
   "mimetype": "text/x-python",
   "name": "python",
   "nbconvert_exporter": "python",
   "pygments_lexer": "ipython3",
   "version": "3.13.7"
  }
 },
 "nbformat": 4,
 "nbformat_minor": 5
}
