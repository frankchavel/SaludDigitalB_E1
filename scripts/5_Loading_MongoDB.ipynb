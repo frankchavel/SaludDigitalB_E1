{
 "cells": [
  {
   "cell_type": "markdown",
   "id": "3f41f49d",
   "metadata": {},
   "source": [
    "# 🧩 Fase 5 – Carga en MongoDB"
   ]
  },
  {
   "cell_type": "code",
   "execution_count": 2,
   "id": "0a427cd0",
   "metadata": {},
   "outputs": [
    {
     "name": "stdout",
     "output_type": "stream",
     "text": [
      "Datos insertados en MongoDB correctamente.\n"
     ]
    }
   ],
   "source": [
    "import pandas as pd\n",
    "from pymongo import MongoClient\n",
    "\n",
    "client = MongoClient(\"mongodb://localhost:27017/\")\n",
    "db = client[\"SaludDigital_2025\"]\n",
    "collection = db[\"pacientes\"]\n",
    "\n",
    "df = pd.read_csv('../database/pacientes_clean.csv')\n",
    "data = df.to_dict(orient=\"records\")\n",
    "collection.insert_many(data)\n",
    "print(\"Datos insertados en MongoDB correctamente.\")"
   ]
  }
 ],
 "metadata": {
  "kernelspec": {
   "display_name": "myenv",
   "language": "python",
   "name": "python3"
  },
  "language_info": {
   "codemirror_mode": {
    "name": "ipython",
    "version": 3
   },
   "file_extension": ".py",
   "mimetype": "text/x-python",
   "name": "python",
   "nbconvert_exporter": "python",
   "pygments_lexer": "ipython3",
   "version": "3.13.7"
  }
 },
 "nbformat": 4,
 "nbformat_minor": 5
}
