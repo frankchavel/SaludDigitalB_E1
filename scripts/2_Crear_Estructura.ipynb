{
 "cells": [
  {
   "cell_type": "markdown",
   "id": "93b7c35b",
   "metadata": {},
   "source": [
    "# Crear archivo base pacientes.csv automáticamente"
   ]
  },
  {
   "cell_type": "code",
   "execution_count": 2,
   "id": "1f09266c",
   "metadata": {},
   "outputs": [
    {
     "name": "stdout",
     "output_type": "stream",
     "text": [
      "Archivo 'base.csv' creado correctamente.\n"
     ]
    }
   ],
   "source": [
    "from pathlib import Path\n",
    "\n",
    "# Crear carpeta data\n",
    "data_path = Path.cwd() / \"../data\"\n",
    "data_path.mkdir(parents=True, exist_ok=True)\n",
    "\n",
    "# Crear archivo CSV base\n",
    "archivo_csv = data_path / \"base.csv\"\n",
    "if not archivo_csv.exists():\n",
    "    with open(archivo_csv, \"w\", encoding=\"utf-8\") as f:\n",
    "        f.write(\"id_paciente,nombre,edad,sexo,distrito,servicio,fecha_atencion,Saldo,monto\\n\")\n",
    "    print(\"Archivo 'base.csv' creado correctamente.\")\n",
    "else:\n",
    "    print(\"El archivo 'base.csv' ya existe.\")\n",
    "    "
   ]
  }
 ],
 "metadata": {
  "kernelspec": {
   "display_name": "myenv",
   "language": "python",
   "name": "python3"
  },
  "language_info": {
   "codemirror_mode": {
    "name": "ipython",
    "version": 3
   },
   "file_extension": ".py",
   "mimetype": "text/x-python",
   "name": "python",
   "nbconvert_exporter": "python",
   "pygments_lexer": "ipython3",
   "version": "3.13.7"
  }
 },
 "nbformat": 4,
 "nbformat_minor": 5
}
